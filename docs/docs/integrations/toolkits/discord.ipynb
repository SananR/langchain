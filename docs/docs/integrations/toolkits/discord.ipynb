{
 "cells": [
  {
   "cell_type": "markdown",
   "id": "d900d642-4f41-4666-a55b-f58bf1b058ee",
   "metadata": {},
   "source": [
    "# Discord\r\n",
    "T  e`Discor`  toolkit contains tools that enable an LLM agent to interact wit h aDiscord servry. The too ssi a wrapper for the [DiscordAPI](https://discord.com/developers/docs/intro) and provides basic functionalities to interface with channels, users, ec.\n",
    " \n",
    "## Quickstart\n",
    "1. Install the pygithub library\n",
    "2. Create a Github app\n",
    "3. Set your environmental variables\n",
    "4. Pass the tools to your agent with `toolkit.get_tools()`\n",
    "\n",
    "Each of these steps will be explained in great detail below.\n",
    "\n",
    "1. **Get Issues**- fetches issues from the repository.\n",
    "\n",
    "2. **Get Issue**- fetches details about a specific issue.\n",
    "\n",
    "3. **Comment on Issue**- posts a comment on a specific issue.\n",
    "\n",
    "4. **Create Pull Request**- creates a pull request from the bot's working branch to the base branch.\n",
    "\n",
    "5. **Create File**- creates a new file in the repository.\n",
    "\n",
    "6. **Read File**- reads a file from the repository.\n",
    "\n",
    "7. **Update File**- updates a file in the repository.\n",
    "\n",
    "8. **Delete File**- deletes a file from the repository.\n",
    "."
   ]
  },
  {
   "cell_type": "code",
   "execution_count": 2,
   "id": "063bdd80-361c-4570-bd65-f439a8e9995d",
   "metadata": {},
   "outputs": [
    {
     "name": "stdout",
     "output_type": "stream",
     "text": [
      "Collecting discord.py\n",
      "  Obtaining dependency information for discord.py from https://files.pythonhosted.org/packages/9c/7e/5f1b24b2ced0c4b3042204f7827b57c7dcb26d368e9b0fde8cec7853cf30/discord.py-2.3.2-py3-none-any.whl.metadata\n",
      "  Downloading discord.py-2.3.2-py3-none-any.whl.metadata (4.9 kB)\n",
      "Requirement already satisfied: aiohttp<4,>=3.7.4 in c:\\users\\sanan\\desktop\\bukkit coding\\eclipse workshop\\langchain\\.venv\\lib\\site-packages (from discord.py) (3.8.5)\n",
      "Requirement already satisfied: attrs>=17.3.0 in c:\\users\\sanan\\desktop\\bukkit coding\\eclipse workshop\\langchain\\.venv\\lib\\site-packages (from aiohttp<4,>=3.7.4->discord.py) (23.1.0)\n",
      "Requirement already satisfied: charset-normalizer<4.0,>=2.0 in c:\\users\\sanan\\desktop\\bukkit coding\\eclipse workshop\\langchain\\.venv\\lib\\site-packages (from aiohttp<4,>=3.7.4->discord.py) (3.3.0)\n",
      "Requirement already satisfied: multidict<7.0,>=4.5 in c:\\users\\sanan\\desktop\\bukkit coding\\eclipse workshop\\langchain\\.venv\\lib\\site-packages (from aiohttp<4,>=3.7.4->discord.py) (6.0.4)\n",
      "Requirement already satisfied: async-timeout<5.0,>=4.0.0a3 in c:\\users\\sanan\\desktop\\bukkit coding\\eclipse workshop\\langchain\\.venv\\lib\\site-packages (from aiohttp<4,>=3.7.4->discord.py) (4.0.3)\n",
      "Requirement already satisfied: yarl<2.0,>=1.0 in c:\\users\\sanan\\desktop\\bukkit coding\\eclipse workshop\\langchain\\.venv\\lib\\site-packages (from aiohttp<4,>=3.7.4->discord.py) (1.9.2)\n",
      "Requirement already satisfied: frozenlist>=1.1.1 in c:\\users\\sanan\\desktop\\bukkit coding\\eclipse workshop\\langchain\\.venv\\lib\\site-packages (from aiohttp<4,>=3.7.4->discord.py) (1.4.0)\n",
      "Requirement already satisfied: aiosignal>=1.1.2 in c:\\users\\sanan\\desktop\\bukkit coding\\eclipse workshop\\langchain\\.venv\\lib\\site-packages (from aiohttp<4,>=3.7.4->discord.py) (1.3.1)\n",
      "Requirement already satisfied: idna>=2.0 in c:\\users\\sanan\\desktop\\bukkit coding\\eclipse workshop\\langchain\\.venv\\lib\\site-packages (from yarl<2.0,>=1.0->aiohttp<4,>=3.7.4->discord.py) (3.4)\n",
      "Downloading discord.py-2.3.2-py3-none-any.whl (1.1 MB)\n",
      "   ---------------------------------------- 0.0/1.1 MB ? eta -:--:--\n",
      "   ---------- ----------------------------- 0.3/1.1 MB 8.6 MB/s eta 0:00:01\n",
      "   ---------------------------------------- 1.1/1.1 MB 17.1 MB/s eta 0:00:00\n",
      "Installing collected packages: discord.py\n",
      "Successfully installed discord.py-2.3.2\n",
      "Note: you may need to restart the kernel to use updated packages.\n"
     ]
    },
    {
     "name": "stderr",
     "output_type": "stream",
     "text": [
      "\n",
      "[notice] A new release of pip is available: 23.2.1 -> 23.3.1\n",
      "[notice] To update, run: python.exe -m pip install --upgrade pip\n"
     ]
    },
    {
     "ename": "TypeError",
     "evalue": "Callback must be a coroutine.",
     "output_type": "error",
     "traceback": [
      "\u001b[1;31m---------------------------------------------------------------------------\u001b[0m",
      "\u001b[1;31mTypeError\u001b[0m                                 Traceback (most recent call last)",
      "Cell \u001b[1;32mIn[2], line 4\u001b[0m\n\u001b[0;32m      2\u001b[0m \u001b[38;5;28;01mimport\u001b[39;00m \u001b[38;5;21;01mos\u001b[39;00m\n\u001b[0;32m      3\u001b[0m \u001b[38;5;28;01mfrom\u001b[39;00m \u001b[38;5;21;01mlangchain\u001b[39;00m\u001b[38;5;21;01m.\u001b[39;00m\u001b[38;5;21;01magents\u001b[39;00m \u001b[38;5;28;01mimport\u001b[39;00m AgentType, initialize_agent\n\u001b[1;32m----> 4\u001b[0m \u001b[38;5;28;01mfrom\u001b[39;00m \u001b[38;5;21;01mlangchain\u001b[39;00m\u001b[38;5;21;01m.\u001b[39;00m\u001b[38;5;21;01magents\u001b[39;00m\u001b[38;5;21;01m.\u001b[39;00m\u001b[38;5;21;01magent_toolkits\u001b[39;00m\u001b[38;5;21;01m.\u001b[39;00m\u001b[38;5;21;01mdiscord\u001b[39;00m\u001b[38;5;21;01m.\u001b[39;00m\u001b[38;5;21;01mtoolkit\u001b[39;00m \u001b[38;5;28;01mimport\u001b[39;00m DiscordToolkit\n\u001b[0;32m      5\u001b[0m \u001b[38;5;28;01mfrom\u001b[39;00m \u001b[38;5;21;01mlangchain\u001b[39;00m\u001b[38;5;21;01m.\u001b[39;00m\u001b[38;5;21;01mllms\u001b[39;00m \u001b[38;5;28;01mimport\u001b[39;00m OpenAI\n\u001b[0;32m      6\u001b[0m \u001b[38;5;28;01mfrom\u001b[39;00m \u001b[38;5;21;01mlangchain\u001b[39;00m\u001b[38;5;21;01m.\u001b[39;00m\u001b[38;5;21;01mutilities\u001b[39;00m\u001b[38;5;21;01m.\u001b[39;00m\u001b[38;5;21;01mdiscord\u001b[39;00m \u001b[38;5;28;01mimport\u001b[39;00m DiscordAPIWrapper\n",
      "File \u001b[1;32m~\\Desktop\\Bukkit Coding\\Eclipse Workshop\\langchain\\libs\\langchain\\langchain\\agents\\agent_toolkits\\discord\\toolkit.py:19\u001b[0m\n\u001b[0;32m      4\u001b[0m \u001b[38;5;28;01mfrom\u001b[39;00m \u001b[38;5;21;01mlangchain\u001b[39;00m\u001b[38;5;21;01m.\u001b[39;00m\u001b[38;5;21;01mtools\u001b[39;00m \u001b[38;5;28;01mimport\u001b[39;00m BaseTool\n\u001b[0;32m      5\u001b[0m \u001b[38;5;28;01mfrom\u001b[39;00m \u001b[38;5;21;01mlangchain\u001b[39;00m\u001b[38;5;21;01m.\u001b[39;00m\u001b[38;5;21;01mtools\u001b[39;00m\u001b[38;5;21;01m.\u001b[39;00m\u001b[38;5;21;01mdiscord\u001b[39;00m\u001b[38;5;21;01m.\u001b[39;00m\u001b[38;5;21;01mprompt\u001b[39;00m \u001b[38;5;28;01mimport\u001b[39;00m (\n\u001b[0;32m      6\u001b[0m     ASSIGN_ROLE_PROMPT,\n\u001b[0;32m      7\u001b[0m     CREATE_TEXT_CHANNEL_PROMPT,\n\u001b[1;32m   (...)\u001b[0m\n\u001b[0;32m     17\u001b[0m     SERVER_INFO_PROMPT,\n\u001b[0;32m     18\u001b[0m )\n\u001b[1;32m---> 19\u001b[0m \u001b[38;5;28;01mfrom\u001b[39;00m \u001b[38;5;21;01mlangchain\u001b[39;00m\u001b[38;5;21;01m.\u001b[39;00m\u001b[38;5;21;01mtools\u001b[39;00m\u001b[38;5;21;01m.\u001b[39;00m\u001b[38;5;21;01mdiscord\u001b[39;00m\u001b[38;5;21;01m.\u001b[39;00m\u001b[38;5;21;01mtool\u001b[39;00m \u001b[38;5;28;01mimport\u001b[39;00m DiscordAction\n\u001b[0;32m     20\u001b[0m \u001b[38;5;28;01mfrom\u001b[39;00m \u001b[38;5;21;01mlangchain\u001b[39;00m\u001b[38;5;21;01m.\u001b[39;00m\u001b[38;5;21;01mutilities\u001b[39;00m\u001b[38;5;21;01m.\u001b[39;00m\u001b[38;5;21;01mdiscord\u001b[39;00m \u001b[38;5;28;01mimport\u001b[39;00m DiscordAPIWrapper\n\u001b[0;32m     23\u001b[0m \u001b[38;5;28;01mclass\u001b[39;00m \u001b[38;5;21;01mDiscordToolkit\u001b[39;00m(BaseToolkit):\n",
      "File \u001b[1;32m~\\Desktop\\Bukkit Coding\\Eclipse Workshop\\langchain\\libs\\langchain\\langchain\\tools\\discord\\tool.py:6\u001b[0m\n\u001b[0;32m      4\u001b[0m \u001b[38;5;28;01mfrom\u001b[39;00m \u001b[38;5;21;01mlangchain\u001b[39;00m\u001b[38;5;21;01m.\u001b[39;00m\u001b[38;5;21;01mpydantic_v1\u001b[39;00m \u001b[38;5;28;01mimport\u001b[39;00m Field\n\u001b[0;32m      5\u001b[0m \u001b[38;5;28;01mfrom\u001b[39;00m \u001b[38;5;21;01mlangchain\u001b[39;00m\u001b[38;5;21;01m.\u001b[39;00m\u001b[38;5;21;01mtools\u001b[39;00m\u001b[38;5;21;01m.\u001b[39;00m\u001b[38;5;21;01mbase\u001b[39;00m \u001b[38;5;28;01mimport\u001b[39;00m BaseTool\n\u001b[1;32m----> 6\u001b[0m \u001b[38;5;28;01mfrom\u001b[39;00m \u001b[38;5;21;01mlangchain\u001b[39;00m\u001b[38;5;21;01m.\u001b[39;00m\u001b[38;5;21;01mutilities\u001b[39;00m\u001b[38;5;21;01m.\u001b[39;00m\u001b[38;5;21;01mdiscord\u001b[39;00m \u001b[38;5;28;01mimport\u001b[39;00m DiscordAPIWrapper\n\u001b[0;32m      9\u001b[0m \u001b[38;5;28;01mclass\u001b[39;00m \u001b[38;5;21;01mDiscordAction\u001b[39;00m(BaseTool):\n\u001b[0;32m     10\u001b[0m \u001b[38;5;250m    \u001b[39m\u001b[38;5;124;03m\"\"\"Tool for interacting with the Discord API.\"\"\"\u001b[39;00m\n",
      "File \u001b[1;32m~\\Desktop\\Bukkit Coding\\Eclipse Workshop\\langchain\\libs\\langchain\\langchain\\utilities\\discord.py:8\u001b[0m\n\u001b[0;32m      4\u001b[0m \u001b[38;5;28;01mfrom\u001b[39;00m \u001b[38;5;21;01mlangchain\u001b[39;00m\u001b[38;5;21;01m.\u001b[39;00m\u001b[38;5;21;01mpydantic_v1\u001b[39;00m \u001b[38;5;28;01mimport\u001b[39;00m BaseModel, Extra, root_validator\n\u001b[0;32m      5\u001b[0m \u001b[38;5;28;01mfrom\u001b[39;00m \u001b[38;5;21;01mlangchain\u001b[39;00m\u001b[38;5;21;01m.\u001b[39;00m\u001b[38;5;21;01mutils\u001b[39;00m \u001b[38;5;28;01mimport\u001b[39;00m get_from_dict_or_env\n\u001b[1;32m----> 8\u001b[0m \u001b[38;5;28;01mclass\u001b[39;00m \u001b[38;5;21;01mDiscordAPIWrapper\u001b[39;00m(BaseModel):\n\u001b[0;32m      9\u001b[0m \u001b[38;5;250m    \u001b[39m\u001b[38;5;124;03m\"\"\"Wrapper for Discord API.\"\"\"\u001b[39;00m\n\u001b[0;32m     11\u001b[0m     \u001b[38;5;28;01mdef\u001b[39;00m \u001b[38;5;21m__init__\u001b[39m(\u001b[38;5;28mself\u001b[39m, bot):\n",
      "File \u001b[1;32m~\\Desktop\\Bukkit Coding\\Eclipse Workshop\\langchain\\libs\\langchain\\langchain\\utilities\\discord.py:43\u001b[0m, in \u001b[0;36mDiscordAPIWrapper\u001b[1;34m()\u001b[0m\n\u001b[0;32m     39\u001b[0m     \u001b[38;5;28;01mawait\u001b[39;00m bot\u001b[38;5;241m.\u001b[39mstart(values[\u001b[38;5;124m\"\u001b[39m\u001b[38;5;124mbot_token\u001b[39m\u001b[38;5;124m\"\u001b[39m])  \u001b[38;5;66;03m# Use await with bot.start()\u001b[39;00m\n\u001b[0;32m     40\u001b[0m     \u001b[38;5;28;01mreturn\u001b[39;00m bot\n\u001b[0;32m     42\u001b[0m \u001b[43m\u001b[49m\u001b[38;5;129;43m@commands\u001b[39;49m\u001b[38;5;241;43m.\u001b[39;49m\u001b[43mcommand\u001b[49m\u001b[43m(\u001b[49m\u001b[43mname\u001b[49m\u001b[38;5;241;43m=\u001b[39;49m\u001b[38;5;124;43m\"\u001b[39;49m\u001b[38;5;124;43massign_role\u001b[39;49m\u001b[38;5;124;43m\"\u001b[39;49m\u001b[43m)\u001b[49m\n\u001b[1;32m---> 43\u001b[0m \u001b[43m\u001b[49m\u001b[38;5;28;43;01mdef\u001b[39;49;00m\u001b[43m \u001b[49m\u001b[38;5;21;43massign_role\u001b[39;49m\u001b[43m(\u001b[49m\u001b[38;5;28;43mself\u001b[39;49m\u001b[43m,\u001b[49m\u001b[43m \u001b[49m\u001b[43mctx\u001b[49m\u001b[43m,\u001b[49m\u001b[43m \u001b[49m\u001b[43muser_name\u001b[49m\u001b[43m:\u001b[49m\u001b[43m \u001b[49m\u001b[38;5;28;43mstr\u001b[39;49m\u001b[43m,\u001b[49m\u001b[43m \u001b[49m\u001b[43mrole_name\u001b[49m\u001b[43m:\u001b[49m\u001b[43m \u001b[49m\u001b[38;5;28;43mstr\u001b[39;49m\u001b[43m)\u001b[49m\u001b[43m:\u001b[49m\n\u001b[0;32m     44\u001b[0m \u001b[38;5;250;43m    \u001b[39;49m\u001b[38;5;124;43;03m\"\"\"Assign a role to a user.\"\"\"\u001b[39;49;00m\n\u001b[0;32m     45\u001b[0m \u001b[43m    \u001b[49m\u001b[43mmember\u001b[49m\u001b[43m \u001b[49m\u001b[38;5;241;43m=\u001b[39;49m\u001b[43m \u001b[49m\u001b[38;5;28;43mself\u001b[39;49m\u001b[38;5;241;43m.\u001b[39;49m\u001b[43mfind_user_by_name\u001b[49m\u001b[43m(\u001b[49m\u001b[43mctx\u001b[49m\u001b[43m,\u001b[49m\u001b[43m \u001b[49m\u001b[43muser_name\u001b[49m\u001b[43m)\u001b[49m\n",
      "File \u001b[1;32m~\\Desktop\\Bukkit Coding\\Eclipse Workshop\\langchain\\.venv\\lib\\site-packages\\discord\\ext\\commands\\core.py:1793\u001b[0m, in \u001b[0;36mcommand.<locals>.decorator\u001b[1;34m(func)\u001b[0m\n\u001b[0;32m   1791\u001b[0m \u001b[38;5;28;01mif\u001b[39;00m \u001b[38;5;28misinstance\u001b[39m(func, Command):\n\u001b[0;32m   1792\u001b[0m     \u001b[38;5;28;01mraise\u001b[39;00m \u001b[38;5;167;01mTypeError\u001b[39;00m(\u001b[38;5;124m'\u001b[39m\u001b[38;5;124mCallback is already a command.\u001b[39m\u001b[38;5;124m'\u001b[39m)\n\u001b[1;32m-> 1793\u001b[0m \u001b[38;5;28;01mreturn\u001b[39;00m \u001b[38;5;28mcls\u001b[39m(func, name\u001b[38;5;241m=\u001b[39mname, \u001b[38;5;241m*\u001b[39m\u001b[38;5;241m*\u001b[39mattrs)\n",
      "File \u001b[1;32m~\\Desktop\\Bukkit Coding\\Eclipse Workshop\\langchain\\.venv\\lib\\site-packages\\discord\\ext\\commands\\core.py:399\u001b[0m, in \u001b[0;36mCommand.__init__\u001b[1;34m(self, func, **kwargs)\u001b[0m\n\u001b[0;32m    389\u001b[0m \u001b[38;5;28;01mdef\u001b[39;00m \u001b[38;5;21m__init__\u001b[39m(\n\u001b[0;32m    390\u001b[0m     \u001b[38;5;28mself\u001b[39m,\n\u001b[0;32m    391\u001b[0m     func: Union[\n\u001b[1;32m   (...)\u001b[0m\n\u001b[0;32m    396\u001b[0m     \u001b[38;5;241m*\u001b[39m\u001b[38;5;241m*\u001b[39mkwargs: Any,\n\u001b[0;32m    397\u001b[0m ) \u001b[38;5;241m-\u001b[39m\u001b[38;5;241m>\u001b[39m \u001b[38;5;28;01mNone\u001b[39;00m:\n\u001b[0;32m    398\u001b[0m     \u001b[38;5;28;01mif\u001b[39;00m \u001b[38;5;129;01mnot\u001b[39;00m asyncio\u001b[38;5;241m.\u001b[39miscoroutinefunction(func):\n\u001b[1;32m--> 399\u001b[0m         \u001b[38;5;28;01mraise\u001b[39;00m \u001b[38;5;167;01mTypeError\u001b[39;00m(\u001b[38;5;124m'\u001b[39m\u001b[38;5;124mCallback must be a coroutine.\u001b[39m\u001b[38;5;124m'\u001b[39m)\n\u001b[0;32m    401\u001b[0m     name \u001b[38;5;241m=\u001b[39m kwargs\u001b[38;5;241m.\u001b[39mget(\u001b[38;5;124m'\u001b[39m\u001b[38;5;124mname\u001b[39m\u001b[38;5;124m'\u001b[39m) \u001b[38;5;129;01mor\u001b[39;00m func\u001b[38;5;241m.\u001b[39m\u001b[38;5;18m__name__\u001b[39m\n\u001b[0;32m    402\u001b[0m     \u001b[38;5;28;01mif\u001b[39;00m \u001b[38;5;129;01mnot\u001b[39;00m \u001b[38;5;28misinstance\u001b[39m(name, \u001b[38;5;28mstr\u001b[39m):\n",
      "\u001b[1;31mTypeError\u001b[0m: Callback must be a coroutine."
     ]
    }
   ],
   "source": [
    "import os\n",
    "from langchain.agents import AgentType, initialize_agent\n",
    "from langchain.agents.agent_toolkits.discord.toolkit import DiscordToolkit\n",
    "from langchain.llms import OpenAI\n",
    "from langchain.utilities.discord import DiscordAPIWrapper\n",
    "\n",
    "# Set your Discord user token and server details using os.environ\n",
    "os.environ[\"DISCORD_BOT_TOKEN\"] = \"your_bot_token\"  # Update with your bot token\n",
    "os.environ[\"DISCORD_SERVER_ID\"] = \"your_server_id\"  # Update with your server ID\n",
    "os.environ[\"DISCORD_ROLE_NAME\"] = \"your_role_name\"  # Update with your role name\n",
    "\n",
    "# This example also requires an OpenAI API key\n",
    "os.environ[\"OPENAI_API_KEY\"] = \"your_openai_api_key\"  # Update with your OpenAI API key\n",
    "\n",
    "# Create instances of the Discord API wrapper, toolkit, and OpenAI\n",
    "discord_api = DiscordAPIWrapper()\n",
    "discord_toolkit = DiscordToolkit.from_discord_api_wrapper(discord_api)\n",
    "llm = OpenAI(temperature=0)\n",
    "\n",
    "# Initialize the bot\n",
    "bot = discord_api.initialize_discord_bot()\n",
    "\n",
    "# Initialize the agent with the Discord Toolkit\n",
    "agent = initialize_agent(\n",
    "    discord_toolkit.get_tools(),\n",
    "    llm,\n",
    "    agent=AgentType.ZERO_SHOT_REACT_DESCRIPTION,\n",
    "    verbose=True\n",
    ")\n",
    "\n",
    "# Add the DiscordAPIWrapper cog to the bot\n",
    "bot.add_cog(discord_api)\n",
    "\n",
    "# Run the Discord bot\n",
    "bot.run()\n"
   ]
  },
  {
   "cell_type": "code",
   "execution_count": null,
   "id": "11503b82-aa37-42d3-a9c1-f7b39e6aa7dd",
   "metadata": {},
   "outputs": [],
   "source": []
  }
 ],
 "metadata": {
  "kernelspec": {
   "display_name": "Python 3 (ipykernel)",
   "language": "python",
   "name": "python3"
  },
  "language_info": {
   "codemirror_mode": {
    "name": "ipython",
    "version": 3
   },
   "file_extension": ".py",
   "mimetype": "text/x-python",
   "name": "python",
   "nbconvert_exporter": "python",
   "pygments_lexer": "ipython3",
   "version": "3.10.4"
  }
 },
 "nbformat": 4,
 "nbformat_minor": 5
}
